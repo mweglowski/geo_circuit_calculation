{
 "cells": [
  {
   "cell_type": "markdown",
   "metadata": {},
   "source": [
    "## Importing necessary libraries\n",
    "\n",
    "- **pandas** - Used for data loading and storing in dataframes\n",
    "- **sqlalchemy** - Library for leveraging SQL databases, used here due to its efficiency in handling small amounts of data and simplicity\n",
    "- **geopy** - \n",
    "- **folium** - "
   ]
  },
  {
   "cell_type": "code",
   "execution_count": 37,
   "metadata": {},
   "outputs": [],
   "source": [
    "import pandas as pd\n",
    "import sqlite3\n",
    "from geopy.distance import geodesic\n",
    "import folium"
   ]
  },
  {
   "cell_type": "markdown",
   "metadata": {},
   "source": [
    "## Data Loading\n",
    "\n",
    "Here we are using pandas `.read_csv()` method for reading data from csv file and storing it into pandas `DataFrame` which is clear and similar to SQL format"
   ]
  },
  {
   "cell_type": "code",
   "execution_count": 38,
   "metadata": {},
   "outputs": [
    {
     "data": {
      "text/html": [
       "<div>\n",
       "<style scoped>\n",
       "    .dataframe tbody tr th:only-of-type {\n",
       "        vertical-align: middle;\n",
       "    }\n",
       "\n",
       "    .dataframe tbody tr th {\n",
       "        vertical-align: top;\n",
       "    }\n",
       "\n",
       "    .dataframe thead th {\n",
       "        text-align: right;\n",
       "    }\n",
       "</style>\n",
       "<table border=\"1\" class=\"dataframe\">\n",
       "  <thead>\n",
       "    <tr style=\"text-align: right;\">\n",
       "      <th></th>\n",
       "      <th>name</th>\n",
       "      <th>coordinates</th>\n",
       "      <th>height</th>\n",
       "      <th>date_added</th>\n",
       "      <th>metadata</th>\n",
       "    </tr>\n",
       "  </thead>\n",
       "  <tbody>\n",
       "    <tr>\n",
       "      <th>0</th>\n",
       "      <td>Exatel HQ</td>\n",
       "      <td>52.2322, 21.0083</td>\n",
       "      <td>0.115</td>\n",
       "      <td>2024-05-06T09:00:00</td>\n",
       "      <td>sector=telecommunications;status=headquarters</td>\n",
       "    </tr>\n",
       "    <tr>\n",
       "      <th>1</th>\n",
       "      <td>Wrocław IT Center</td>\n",
       "      <td>51.1079, 17.0385</td>\n",
       "      <td>0.142</td>\n",
       "      <td>2024-05-06T09:15:00</td>\n",
       "      <td>sector=IT services;status=data center</td>\n",
       "    </tr>\n",
       "    <tr>\n",
       "      <th>2</th>\n",
       "      <td>Kraków Cyber Hub</td>\n",
       "      <td>50.0647, 19.9450</td>\n",
       "      <td>0.206</td>\n",
       "      <td>2024-05-06T09:30:00</td>\n",
       "      <td>sector=cybersecurity;status=training facility</td>\n",
       "    </tr>\n",
       "  </tbody>\n",
       "</table>\n",
       "</div>"
      ],
      "text/plain": [
       "                name       coordinates   height           date_added  \\\n",
       "0          Exatel HQ  52.2322, 21.0083    0.115  2024-05-06T09:00:00   \n",
       "1  Wrocław IT Center  51.1079, 17.0385    0.142  2024-05-06T09:15:00   \n",
       "2   Kraków Cyber Hub  50.0647, 19.9450    0.206  2024-05-06T09:30:00   \n",
       "\n",
       "                                        metadata  \n",
       "0  sector=telecommunications;status=headquarters  \n",
       "1          sector=IT services;status=data center  \n",
       "2  sector=cybersecurity;status=training facility  "
      ]
     },
     "execution_count": 38,
     "metadata": {},
     "output_type": "execute_result"
    }
   ],
   "source": [
    "# Reading csv file and loading into DataFrame\n",
    "data = pd.read_csv('points.csv')\n",
    "\n",
    "# Let's see the loaded data\n",
    "data.head(3)"
   ]
  },
  {
   "cell_type": "markdown",
   "metadata": {},
   "source": [
    "## Setting up Database"
   ]
  },
  {
   "cell_type": "code",
   "execution_count": 39,
   "metadata": {},
   "outputs": [],
   "source": [
    "# Establishing the connection to database\n",
    "conn = sqlite3.connect('points.db')\n",
    "\n",
    "# Setting the control structure using .cursor() to enable executing queries in the future\n",
    "cursor = conn.cursor()\n",
    "\n",
    "# Query for dropping table if exist\n",
    "drop_query = '''\n",
    "DROP TABLE IF EXISTS points\n",
    "'''\n",
    "\n",
    "# Executing drop table query\n",
    "cursor.execute(drop_query)\n",
    "\n",
    "# Query for creating table points if not exists already with columns same as in csv file\n",
    "create_query = '''\n",
    "CREATE TABLE points (\n",
    "    id INT PRIMARY KEY,\n",
    "    name TEXT,\n",
    "    latitude REAL,\n",
    "    longitude REAL,\n",
    "    height REAL,\n",
    "    date_added TEXT,\n",
    "    metadata TEXT\n",
    ")\n",
    "'''\n",
    "\n",
    "# Executing create table query\n",
    "cursor.execute(create_query)\n",
    "\n",
    "# Commiting changes\n",
    "conn.commit()"
   ]
  },
  {
   "cell_type": "markdown",
   "metadata": {},
   "source": [
    "## Useful functions\n"
   ]
  },
  {
   "cell_type": "markdown",
   "metadata": {},
   "source": [
    "### Convert coordinate function"
   ]
  },
  {
   "cell_type": "code",
   "execution_count": 40,
   "metadata": {},
   "outputs": [],
   "source": [
    "# Converting coordinate function\n",
    "def convert_coordinate(coord: str) -> float:\n",
    "    \"\"\"\n",
    "    Convert various geographical coordinate formats to decimal degrees.\n",
    "    \n",
    "    Args:\n",
    "        coord (str): Coordinate presented in different formats:\n",
    "            1. Degrees with decimal (e.g., 34.1234°)\n",
    "            2. Degrees and minutes with decimal (e.g., 34° 12.345')\n",
    "            3. Degrees, minutes, and seconds (e.g., 34° 12' 34\")\n",
    "            4. Includes direction letters (N, E, S, W) (e.g., 34° 5' 15.22\" W)\n",
    "    \n",
    "    Returns:\n",
    "        converted_coord (float) : Converted coordinate in decimal degrees format (1).\n",
    "    \"\"\"\n",
    "    \n",
    "    # Replacing whitespaces for easier string manipulation\n",
    "    coord = coord.replace(\" \", \"\")\n",
    "    \n",
    "    # Initialize components\n",
    "    degrees = 0\n",
    "    minutes = 0\n",
    "    seconds = 0\n",
    "    \n",
    "    # Extracting degrees\n",
    "    if '°' in coord:\n",
    "        degrees = float(coord[: coord.index('°')])\n",
    "    # Extracting minutes\n",
    "    if \"'\" in coord:\n",
    "        minutes = float(coord[coord.index(\"°\") + 1 : coord.index(\"'\")])\n",
    "    # Extracting seconds\n",
    "    if '\"' in coord:\n",
    "        seconds = float(coord[coord.index(\"'\") + 1 : coord.index('\"')])\n",
    "        \n",
    "    # Calcualting result\n",
    "    minutes += seconds / 60\n",
    "    converted_coord = degrees + minutes / 60\n",
    "    \n",
    "    # Handling the case with NESW letters\n",
    "    if 'S' in coord or 'W' in coord:\n",
    "        converted_coord *= -1\n",
    "    \n",
    "    # Returning result\n",
    "    return converted_coord\n"
   ]
  },
  {
   "cell_type": "markdown",
   "metadata": {},
   "source": [
    "### Get perimeter function"
   ]
  },
  {
   "cell_type": "code",
   "execution_count": null,
   "metadata": {},
   "outputs": [],
   "source": [
    "# Calculating perimeter function\n",
    "def calculate_perimeter(data):\n",
    "    perimeter = 0\n",
    "    points = list(data['Converted Coordinates'])\n",
    "    for i in range(len(points)-1):\n",
    "        perimeter += geodesic(points[i], points[i+1]).km\n",
    "    perimeter += geodesic(points[-1], points[0]).km\n",
    "    return perimeter"
   ]
  },
  {
   "cell_type": "markdown",
   "metadata": {},
   "source": [
    "## Data Normalization\n",
    "\n",
    "I decided to divide coordinates into longitude and latitude, all in the same single format (degrees with decimal points)."
   ]
  },
  {
   "cell_type": "code",
   "execution_count": 41,
   "metadata": {},
   "outputs": [
    {
     "data": {
      "text/html": [
       "<div>\n",
       "<style scoped>\n",
       "    .dataframe tbody tr th:only-of-type {\n",
       "        vertical-align: middle;\n",
       "    }\n",
       "\n",
       "    .dataframe tbody tr th {\n",
       "        vertical-align: top;\n",
       "    }\n",
       "\n",
       "    .dataframe thead th {\n",
       "        text-align: right;\n",
       "    }\n",
       "</style>\n",
       "<table border=\"1\" class=\"dataframe\">\n",
       "  <thead>\n",
       "    <tr style=\"text-align: right;\">\n",
       "      <th></th>\n",
       "      <th>name</th>\n",
       "      <th>coordinates</th>\n",
       "      <th>height</th>\n",
       "      <th>date_added</th>\n",
       "      <th>metadata</th>\n",
       "      <th>latitude</th>\n",
       "      <th>longitude</th>\n",
       "    </tr>\n",
       "  </thead>\n",
       "  <tbody>\n",
       "    <tr>\n",
       "      <th>0</th>\n",
       "      <td>Exatel HQ</td>\n",
       "      <td>52.2322, 21.0083</td>\n",
       "      <td>0.115</td>\n",
       "      <td>2024-05-06T09:00:00</td>\n",
       "      <td>sector=telecommunications;status=headquarters</td>\n",
       "      <td>0.0</td>\n",
       "      <td>0.0</td>\n",
       "    </tr>\n",
       "    <tr>\n",
       "      <th>1</th>\n",
       "      <td>Wrocław IT Center</td>\n",
       "      <td>51.1079, 17.0385</td>\n",
       "      <td>0.142</td>\n",
       "      <td>2024-05-06T09:15:00</td>\n",
       "      <td>sector=IT services;status=data center</td>\n",
       "      <td>0.0</td>\n",
       "      <td>0.0</td>\n",
       "    </tr>\n",
       "    <tr>\n",
       "      <th>2</th>\n",
       "      <td>Kraków Cyber Hub</td>\n",
       "      <td>50.0647, 19.9450</td>\n",
       "      <td>0.206</td>\n",
       "      <td>2024-05-06T09:30:00</td>\n",
       "      <td>sector=cybersecurity;status=training facility</td>\n",
       "      <td>0.0</td>\n",
       "      <td>0.0</td>\n",
       "    </tr>\n",
       "  </tbody>\n",
       "</table>\n",
       "</div>"
      ],
      "text/plain": [
       "                name       coordinates   height           date_added  \\\n",
       "0          Exatel HQ  52.2322, 21.0083    0.115  2024-05-06T09:00:00   \n",
       "1  Wrocław IT Center  51.1079, 17.0385    0.142  2024-05-06T09:15:00   \n",
       "2   Kraków Cyber Hub  50.0647, 19.9450    0.206  2024-05-06T09:30:00   \n",
       "\n",
       "                                        metadata  latitude  longitude  \n",
       "0  sector=telecommunications;status=headquarters       0.0        0.0  \n",
       "1          sector=IT services;status=data center       0.0        0.0  \n",
       "2  sector=cybersecurity;status=training facility       0.0        0.0  "
      ]
     },
     "execution_count": 41,
     "metadata": {},
     "output_type": "execute_result"
    }
   ],
   "source": [
    "# Splitting coordinates column into its latitude and longitude\n",
    "data[['latitude', 'longitude']] = data['coordinates'].str.split(', ', expand=True)\n",
    "\n",
    "# Converting latitude as well as longitude into the same format (degree with decimal points)\n",
    "data['latitude'] = data['latitude'].apply(convert_coordinate)\n",
    "data['longitude'] = data['longitude'].apply(convert_coordinate)\n",
    "\n",
    "# Printing the first 3 rows after above operations\n",
    "data.head(3)"
   ]
  },
  {
   "cell_type": "markdown",
   "metadata": {},
   "source": [
    "## Inserting Data\n",
    "\n",
    "Iterating through data (`pandas.DataFrame`) using for loop and leveraging the `.iterrows()` method that returns the generator through which we can iterate. `row` variable is a `pandas.Series` object, so we are able to easily manipulate it."
   ]
  },
  {
   "cell_type": "code",
   "execution_count": 42,
   "metadata": {},
   "outputs": [
    {
     "ename": "ValueError",
     "evalue": "too many values to unpack (expected 6)",
     "output_type": "error",
     "traceback": [
      "\u001b[1;31m---------------------------------------------------------------------------\u001b[0m",
      "\u001b[1;31mValueError\u001b[0m                                Traceback (most recent call last)",
      "Cell \u001b[1;32mIn[42], line 4\u001b[0m\n\u001b[0;32m      1\u001b[0m \u001b[38;5;66;03m# For each row insert it into database\u001b[39;00m\n\u001b[0;32m      2\u001b[0m \u001b[38;5;28;01mfor\u001b[39;00m index, row \u001b[38;5;129;01min\u001b[39;00m data\u001b[38;5;241m.\u001b[39miterrows():\n\u001b[0;32m      3\u001b[0m     \u001b[38;5;66;03m# Destructurizing columns from the row\u001b[39;00m\n\u001b[1;32m----> 4\u001b[0m     name, latitude, longitude, height, date_added, metadata \u001b[38;5;241m=\u001b[39m row\n\u001b[0;32m      6\u001b[0m     \u001b[38;5;66;03m# Creating insert query with parameterized inputs\u001b[39;00m\n\u001b[0;32m      7\u001b[0m     \u001b[38;5;66;03m# This approach avoids syntax errors and protects against SQL injection attacks\u001b[39;00m\n\u001b[0;32m      8\u001b[0m     add_row_query \u001b[38;5;241m=\u001b[39m \u001b[38;5;124mf\u001b[39m\u001b[38;5;124m'''\u001b[39m\n\u001b[0;32m      9\u001b[0m \u001b[38;5;124m    INSERT INTO points (id, name, lattitude, longitude, height, date_added, metadata) \u001b[39m\n\u001b[0;32m     10\u001b[0m \u001b[38;5;124m    VALUES (?, ?, ?, ?, ?, ?)\u001b[39m\n\u001b[0;32m     11\u001b[0m \u001b[38;5;124m    \u001b[39m\u001b[38;5;124m'''\u001b[39m\n",
      "\u001b[1;31mValueError\u001b[0m: too many values to unpack (expected 6)"
     ]
    }
   ],
   "source": [
    "# For each row insert it into database\n",
    "for index, row in data.iterrows():\n",
    "    # Destructurizing columns from the row\n",
    "    name, latitude, longitude, height, date_added, metadata = row\n",
    "    \n",
    "    # Creating insert query with parameterized inputs\n",
    "    # This approach avoids syntax errors and protects against SQL injection attacks\n",
    "    add_row_query = f'''\n",
    "    INSERT INTO points (id, name, lattitude, longitude, height, date_added, metadata) \n",
    "    VALUES (?, ?, ?, ?, ?, ?)\n",
    "    '''\n",
    "    \n",
    "    # Data to insert\n",
    "    data_to_insert = (index, name, latitude, longitude, height, date_added, metadata)\n",
    "    \n",
    "    # Executing insert operation\n",
    "    conn.execute(add_row_query, data_to_insert)\n",
    "    \n",
    "    # Commiting changes\n",
    "    conn.commit()"
   ]
  },
  {
   "cell_type": "markdown",
   "metadata": {},
   "source": [
    "## See Loaded Data\n",
    "\n",
    "Check if data loaded successfully to the database and use `.fetchall()` coords to see that."
   ]
  },
  {
   "cell_type": "code",
   "execution_count": null,
   "metadata": {},
   "outputs": [
    {
     "data": {
      "text/plain": [
       "[(0,\n",
       "  'Exatel HQ',\n",
       "  '52.2322, 21.0083',\n",
       "  0.115,\n",
       "  '2024-05-06T09:00:00',\n",
       "  'sector=telecommunications;status=headquarters'),\n",
       " (1,\n",
       "  'Wrocław IT Center',\n",
       "  '51.1079, 17.0385',\n",
       "  0.142,\n",
       "  '2024-05-06T09:15:00',\n",
       "  'sector=IT services;status=data center')]"
      ]
     },
     "execution_count": 22,
     "metadata": {},
     "output_type": "execute_result"
    }
   ],
   "source": [
    "# Execute query that selects all rows from points table\n",
    "cursor.execute('SELECT * FROM points')\n",
    "\n",
    "# Get all rows\n",
    "rows = cursor.fetchall()\n",
    "\n",
    "# Show only the first 2 rows\n",
    "rows[:2]"
   ]
  },
  {
   "cell_type": "code",
   "execution_count": null,
   "metadata": {},
   "outputs": [],
   "source": [
    "perimeter = calculate_perimeter(data)\n",
    "\n",
    "\n",
    "\n",
    "# map = folium.Map(location=[0, 0], zoom_start=2)\n",
    "# for index, row in data.iterrows():\n",
    "#     folium.Marker([row['Lat'], row['Lon']], popup=row['Nazwa']).add_to(map)\n",
    "# map.save('map.html')"
   ]
  }
 ],
 "metadata": {
  "kernelspec": {
   "display_name": "Python 3",
   "language": "python",
   "name": "python3"
  },
  "language_info": {
   "codemirror_mode": {
    "name": "ipython",
    "version": 3
   },
   "file_extension": ".py",
   "mimetype": "text/x-python",
   "name": "python",
   "nbconvert_exporter": "python",
   "pygments_lexer": "ipython3",
   "version": "3.12.0"
  }
 },
 "nbformat": 4,
 "nbformat_minor": 2
}
